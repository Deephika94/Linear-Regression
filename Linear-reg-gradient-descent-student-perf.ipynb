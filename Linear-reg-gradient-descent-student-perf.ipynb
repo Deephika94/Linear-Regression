{
 "cells": [
  {
   "cell_type": "code",
   "execution_count": 1,
   "id": "5120ffb5",
   "metadata": {
    "_cell_guid": "b1076dfc-b9ad-4769-8c92-a6c4dae69d19",
    "_uuid": "8f2839f25d086af736a60e9eeb907d3b93b6e0e5",
    "execution": {
     "iopub.execute_input": "2024-06-21T19:02:21.242139Z",
     "iopub.status.busy": "2024-06-21T19:02:21.241715Z",
     "iopub.status.idle": "2024-06-21T19:02:22.107909Z",
     "shell.execute_reply": "2024-06-21T19:02:22.106563Z"
    },
    "papermill": {
     "duration": 0.878207,
     "end_time": "2024-06-21T19:02:22.110380",
     "exception": false,
     "start_time": "2024-06-21T19:02:21.232173",
     "status": "completed"
    },
    "tags": []
   },
   "outputs": [
    {
     "name": "stdout",
     "output_type": "stream",
     "text": [
      "/kaggle/input/student-performance-multiple-linear-regression/Student_Performance.csv\n"
     ]
    }
   ],
   "source": [
    "# This Python 3 environment comes with many helpful analytics libraries installed\n",
    "# It is defined by the kaggle/python Docker image: https://github.com/kaggle/docker-python\n",
    "# For example, here's several helpful packages to load\n",
    "\n",
    "import numpy as np # linear algebra\n",
    "import pandas as pd # data processing, CSV file I/O (e.g. pd.read_csv)\n",
    "\n",
    "# Input data files are available in the read-only \"../input/\" directory\n",
    "# For example, running this (by clicking run or pressing Shift+Enter) will list all files under the input directory\n",
    "\n",
    "import os\n",
    "for dirname, _, filenames in os.walk('/kaggle/input'):\n",
    "    for filename in filenames:\n",
    "        print(os.path.join(dirname, filename))\n",
    "\n",
    "# You can write up to 20GB to the current directory (/kaggle/working/) that gets preserved as output when you create a version using \"Save & Run All\" \n",
    "# You can also write temporary files to /kaggle/temp/, but they won't be saved outside of the current session"
   ]
  },
  {
   "cell_type": "code",
   "execution_count": 2,
   "id": "9ee84ae7",
   "metadata": {
    "execution": {
     "iopub.execute_input": "2024-06-21T19:02:22.128303Z",
     "iopub.status.busy": "2024-06-21T19:02:22.127795Z",
     "iopub.status.idle": "2024-06-21T19:02:23.401572Z",
     "shell.execute_reply": "2024-06-21T19:02:23.400430Z"
    },
    "papermill": {
     "duration": 1.28599,
     "end_time": "2024-06-21T19:02:23.404293",
     "exception": false,
     "start_time": "2024-06-21T19:02:22.118303",
     "status": "completed"
    },
    "tags": []
   },
   "outputs": [],
   "source": [
    "from sklearn.metrics import mean_squared_error\n",
    "import matplotlib.pyplot as plt\n",
    "import time"
   ]
  },
  {
   "cell_type": "code",
   "execution_count": 3,
   "id": "d029df02",
   "metadata": {
    "execution": {
     "iopub.execute_input": "2024-06-21T19:02:23.421321Z",
     "iopub.status.busy": "2024-06-21T19:02:23.420933Z",
     "iopub.status.idle": "2024-06-21T19:02:23.450682Z",
     "shell.execute_reply": "2024-06-21T19:02:23.449240Z"
    },
    "papermill": {
     "duration": 0.041344,
     "end_time": "2024-06-21T19:02:23.453413",
     "exception": false,
     "start_time": "2024-06-21T19:02:23.412069",
     "status": "completed"
    },
    "tags": []
   },
   "outputs": [
    {
     "name": "stdout",
     "output_type": "stream",
     "text": [
      "Data dimension:  (10000, 6)\n"
     ]
    }
   ],
   "source": [
    "data = pd.read_csv(\"/kaggle/input/student-performance-multiple-linear-regression/Student_Performance.csv\",sep=\",\",)\n",
    "print(\"Data dimension: \",data.shape)"
   ]
  },
  {
   "cell_type": "code",
   "execution_count": 4,
   "id": "1162e764",
   "metadata": {
    "execution": {
     "iopub.execute_input": "2024-06-21T19:02:23.470697Z",
     "iopub.status.busy": "2024-06-21T19:02:23.470300Z",
     "iopub.status.idle": "2024-06-21T19:02:23.479658Z",
     "shell.execute_reply": "2024-06-21T19:02:23.478493Z"
    },
    "papermill": {
     "duration": 0.020508,
     "end_time": "2024-06-21T19:02:23.481869",
     "exception": false,
     "start_time": "2024-06-21T19:02:23.461361",
     "status": "completed"
    },
    "tags": []
   },
   "outputs": [
    {
     "data": {
      "text/plain": [
       "Index(['Hours Studied', 'Previous Scores', 'Extracurricular Activities',\n",
       "       'Sleep Hours', 'Sample Question Papers Practiced', 'Performance Index'],\n",
       "      dtype='object')"
      ]
     },
     "execution_count": 4,
     "metadata": {},
     "output_type": "execute_result"
    }
   ],
   "source": [
    "data.columns"
   ]
  },
  {
   "cell_type": "code",
   "execution_count": 5,
   "id": "0fd73a6e",
   "metadata": {
    "execution": {
     "iopub.execute_input": "2024-06-21T19:02:23.499470Z",
     "iopub.status.busy": "2024-06-21T19:02:23.499093Z",
     "iopub.status.idle": "2024-06-21T19:02:23.504534Z",
     "shell.execute_reply": "2024-06-21T19:02:23.503360Z"
    },
    "papermill": {
     "duration": 0.016823,
     "end_time": "2024-06-21T19:02:23.506709",
     "exception": false,
     "start_time": "2024-06-21T19:02:23.489886",
     "status": "completed"
    },
    "tags": []
   },
   "outputs": [],
   "source": [
    "data.columns = ['Hours_Studied', 'Previous_Scores', 'Extracurricular_Activities',\n",
    "       'Sleep_Hours', 'Sample_Question_Papers_ Practiced', 'Performance_Index']"
   ]
  },
  {
   "cell_type": "code",
   "execution_count": 6,
   "id": "967b7c3b",
   "metadata": {
    "execution": {
     "iopub.execute_input": "2024-06-21T19:02:23.524045Z",
     "iopub.status.busy": "2024-06-21T19:02:23.523622Z",
     "iopub.status.idle": "2024-06-21T19:02:23.794734Z",
     "shell.execute_reply": "2024-06-21T19:02:23.793576Z"
    },
    "papermill": {
     "duration": 0.282739,
     "end_time": "2024-06-21T19:02:23.797363",
     "exception": false,
     "start_time": "2024-06-21T19:02:23.514624",
     "status": "completed"
    },
    "tags": []
   },
   "outputs": [],
   "source": [
    "temp = [1 if data.iloc[i,2] ==\"Yes\" else 0 for i in range(len(data))]\n",
    "data.Extracurricular_Activities = temp"
   ]
  },
  {
   "cell_type": "markdown",
   "id": "59461ec1",
   "metadata": {
    "papermill": {
     "duration": 0.007472,
     "end_time": "2024-06-21T19:02:23.812826",
     "exception": false,
     "start_time": "2024-06-21T19:02:23.805354",
     "status": "completed"
    },
    "tags": []
   },
   "source": [
    "#### Baseline model"
   ]
  },
  {
   "cell_type": "code",
   "execution_count": 7,
   "id": "17af468f",
   "metadata": {
    "execution": {
     "iopub.execute_input": "2024-06-21T19:02:23.830102Z",
     "iopub.status.busy": "2024-06-21T19:02:23.829702Z",
     "iopub.status.idle": "2024-06-21T19:02:23.836927Z",
     "shell.execute_reply": "2024-06-21T19:02:23.835778Z"
    },
    "papermill": {
     "duration": 0.018542,
     "end_time": "2024-06-21T19:02:23.839180",
     "exception": false,
     "start_time": "2024-06-21T19:02:23.820638",
     "status": "completed"
    },
    "tags": []
   },
   "outputs": [
    {
     "name": "stdout",
     "output_type": "stream",
     "text": [
      "Baseline model MSE:  369.1223771977198\n"
     ]
    }
   ],
   "source": [
    "pred = data.Performance_Index.mean()\n",
    "mse = data.Performance_Index.var()\n",
    "print(\"Baseline model MSE: \",mse)"
   ]
  },
  {
   "cell_type": "markdown",
   "id": "08a1c09b",
   "metadata": {
    "papermill": {
     "duration": 0.00762,
     "end_time": "2024-06-21T19:02:23.854723",
     "exception": false,
     "start_time": "2024-06-21T19:02:23.847103",
     "status": "completed"
    },
    "tags": []
   },
   "source": [
    "#### Linear Regression model   \n",
    "\n",
    "$y_{pred} = w.x + b$    \n",
    "\n",
    "*Loss function*  \n",
    "$L(w,b) = \\frac{1}{2m} {\\Sigma^m_{i=1}(y^i_{actual}-(w^i.x^i+b) )^2}$  \n",
    "\n",
    "*Derivative of loss function wrt to w*  \n",
    "$\\frac{df}{dw} L(w,b) = -\\frac{1}{m} {\\Sigma^m_{i=1}(y^i_{actual}-(w^i.x^i+b)).x^i}$  \n",
    "\n",
    "*Derivative of loss function wrt to b*  \n",
    "$\\frac{df}{db} L(w,b) = -\\frac{1}{m} {\\Sigma^m_{i=1}(y^i_{actual}-(w^i.x^i+b))}$  "
   ]
  },
  {
   "cell_type": "markdown",
   "id": "5f9224e3",
   "metadata": {
    "papermill": {
     "duration": 0.007488,
     "end_time": "2024-06-21T19:02:23.870108",
     "exception": false,
     "start_time": "2024-06-21T19:02:23.862620",
     "status": "completed"
    },
    "tags": []
   },
   "source": [
    "### Incorporating b in w \n",
    "\n",
    "$w_{twiddle} = (b,w)$   \n",
    "$w ∈ R^{1xd}$   \n",
    "$w_{twiddle} ∈ R^{1xd+1}$  \n",
    "\n",
    "$x_{twiddle} = (1,x)$   \n",
    "$x ∈ R^{rxd}$   \n",
    "$x_{twiddle} ∈ R^{rxd+1}$   \n",
    "\n",
    "$y_{pred} = w_{twiddle}.x_{twiddle}$  "
   ]
  },
  {
   "cell_type": "markdown",
   "id": "2fbcefbb",
   "metadata": {
    "papermill": {
     "duration": 0.007447,
     "end_time": "2024-06-21T19:02:23.885923",
     "exception": false,
     "start_time": "2024-06-21T19:02:23.878476",
     "status": "completed"
    },
    "tags": []
   },
   "source": [
    "#### Data structure for w and x\n",
    "\n"
   ]
  },
  {
   "cell_type": "code",
   "execution_count": 8,
   "id": "e8dcef4f",
   "metadata": {
    "execution": {
     "iopub.execute_input": "2024-06-21T19:02:23.903734Z",
     "iopub.status.busy": "2024-06-21T19:02:23.902841Z",
     "iopub.status.idle": "2024-06-21T19:02:23.914340Z",
     "shell.execute_reply": "2024-06-21T19:02:23.913125Z"
    },
    "papermill": {
     "duration": 0.022938,
     "end_time": "2024-06-21T19:02:23.916571",
     "exception": false,
     "start_time": "2024-06-21T19:02:23.893633",
     "status": "completed"
    },
    "tags": []
   },
   "outputs": [
    {
     "name": "stdout",
     "output_type": "stream",
     "text": [
      "X shape: (10000, 5)\n",
      "Y shape: (10000,)\n"
     ]
    }
   ],
   "source": [
    "# Input data and Output data\n",
    "\n",
    "x = np.array(data.iloc[:,0:5],ndmin=2)\n",
    "y = np.array(data.iloc[:,5],ndmin=1)\n",
    "\n",
    "print(\"X shape:\",x.shape)\n",
    "print(\"Y shape:\",y.shape)"
   ]
  },
  {
   "cell_type": "markdown",
   "id": "cf89678f",
   "metadata": {
    "papermill": {
     "duration": 0.007615,
     "end_time": "2024-06-21T19:02:23.932155",
     "exception": false,
     "start_time": "2024-06-21T19:02:23.924540",
     "status": "completed"
    },
    "tags": []
   },
   "source": [
    "#### Predicting Y\n",
    "\n",
    "$y_{pred} = w.x + b$  \n",
    "$y_{pred} = w_{twiddle} . x_{twiddle}$"
   ]
  },
  {
   "cell_type": "code",
   "execution_count": 9,
   "id": "7ae7644d",
   "metadata": {
    "execution": {
     "iopub.execute_input": "2024-06-21T19:02:23.950355Z",
     "iopub.status.busy": "2024-06-21T19:02:23.949345Z",
     "iopub.status.idle": "2024-06-21T19:02:23.954589Z",
     "shell.execute_reply": "2024-06-21T19:02:23.953566Z"
    },
    "papermill": {
     "duration": 0.016689,
     "end_time": "2024-06-21T19:02:23.956816",
     "exception": false,
     "start_time": "2024-06-21T19:02:23.940127",
     "status": "completed"
    },
    "tags": []
   },
   "outputs": [],
   "source": [
    "# Predicting y\n",
    "\n",
    "def predict_y(x_twid,w_twid):\n",
    "    y_pred = np.dot(x_twid,w_twid)\n",
    "    return y_pred"
   ]
  },
  {
   "cell_type": "markdown",
   "id": "df563528",
   "metadata": {
    "papermill": {
     "duration": 0.007764,
     "end_time": "2024-06-21T19:02:23.972563",
     "exception": false,
     "start_time": "2024-06-21T19:02:23.964799",
     "status": "completed"
    },
    "tags": []
   },
   "source": [
    "#### Derivative of Loss function\n",
    "\n",
    "$L(w) = \\frac{1}{2m} {\\Sigma^m_{i=1}(y^i_{actual}-w^i_{twiddle}.x^i_{twiddle} )^2}$  \n",
    "\n",
    "$\\frac{df}{dw} L(w) = -\\frac{1}{m} {\\Sigma^m_{i=1}(y^i_{actual}-w^i_{twiddle}.x^i_{twiddle}).x^i_{twiddle}}$  \n",
    "\n",
    "$ = -\\frac{1}{m} {\\Sigma^m_{i=1}(y^i_{actual}-y^i_{pred}).x^i_{twiddle}}$  "
   ]
  },
  {
   "cell_type": "code",
   "execution_count": 10,
   "id": "7c02fd86",
   "metadata": {
    "execution": {
     "iopub.execute_input": "2024-06-21T19:02:23.991767Z",
     "iopub.status.busy": "2024-06-21T19:02:23.991360Z",
     "iopub.status.idle": "2024-06-21T19:02:23.996220Z",
     "shell.execute_reply": "2024-06-21T19:02:23.995134Z"
    },
    "papermill": {
     "duration": 0.016242,
     "end_time": "2024-06-21T19:02:23.998384",
     "exception": false,
     "start_time": "2024-06-21T19:02:23.982142",
     "status": "completed"
    },
    "tags": []
   },
   "outputs": [],
   "source": [
    "# # Method 1 - Defining the loss function\n",
    "\n",
    "# def loss_fn_derivative(y_pred,y_actual,x_twiddle):\n",
    "    \n",
    "#     summation = -2 * np.mean((y_actual - y_pred)*x_twiddle)\n",
    "     \n",
    "#     #derivative should be of shape w_twiddle\n",
    "#     return summation"
   ]
  },
  {
   "cell_type": "code",
   "execution_count": 11,
   "id": "b7137766",
   "metadata": {
    "execution": {
     "iopub.execute_input": "2024-06-21T19:02:24.016065Z",
     "iopub.status.busy": "2024-06-21T19:02:24.015657Z",
     "iopub.status.idle": "2024-06-21T19:02:24.020598Z",
     "shell.execute_reply": "2024-06-21T19:02:24.019551Z"
    },
    "papermill": {
     "duration": 0.016342,
     "end_time": "2024-06-21T19:02:24.022867",
     "exception": false,
     "start_time": "2024-06-21T19:02:24.006525",
     "status": "completed"
    },
    "tags": []
   },
   "outputs": [],
   "source": [
    "# Method 1 - Defining the loss function\n",
    "\n",
    "# def loss_fn_derivative(y_pred,y_actual,x_twiddle):\n",
    "#     r,d = x_twiddle.shape\n",
    "#     summation = np.zeros((r,d))\n",
    "#     for i in range(len(y_pred)):\n",
    "#         summation[i,] = ((y_actual[i] - y_pred[i])*x_twiddle[i,])\n",
    "    \n",
    "#     summation = -2 * np.mean(summation,axis = 0)\n",
    "\n",
    "#     #derivative should be of shape w_twiddle\n",
    "#     return summation"
   ]
  },
  {
   "cell_type": "code",
   "execution_count": 12,
   "id": "34bcc5cb",
   "metadata": {
    "execution": {
     "iopub.execute_input": "2024-06-21T19:02:24.041132Z",
     "iopub.status.busy": "2024-06-21T19:02:24.040706Z",
     "iopub.status.idle": "2024-06-21T19:02:24.046999Z",
     "shell.execute_reply": "2024-06-21T19:02:24.045598Z"
    },
    "papermill": {
     "duration": 0.01889,
     "end_time": "2024-06-21T19:02:24.049769",
     "exception": false,
     "start_time": "2024-06-21T19:02:24.030879",
     "status": "completed"
    },
    "tags": []
   },
   "outputs": [],
   "source": [
    "#Method 2 - Defining the loss function\n",
    "\n",
    "def loss_fn_derivative(y_pred,y_actual,x_twiddle):\n",
    "    \n",
    "    y = y_actual - y_pred\n",
    "    summation = (y.reshape(-1,1)*x_twiddle)\n",
    "    summation = -2 * np.mean(summation,axis = 0)\n",
    " \n",
    "    #derivative should be of shape w_twiddle\n",
    "    return summation"
   ]
  },
  {
   "cell_type": "code",
   "execution_count": 13,
   "id": "15b88a49",
   "metadata": {
    "execution": {
     "iopub.execute_input": "2024-06-21T19:02:24.068316Z",
     "iopub.status.busy": "2024-06-21T19:02:24.067212Z",
     "iopub.status.idle": "2024-06-21T19:02:24.077976Z",
     "shell.execute_reply": "2024-06-21T19:02:24.076796Z"
    },
    "papermill": {
     "duration": 0.022517,
     "end_time": "2024-06-21T19:02:24.080369",
     "exception": false,
     "start_time": "2024-06-21T19:02:24.057852",
     "status": "completed"
    },
    "tags": []
   },
   "outputs": [
    {
     "name": "stdout",
     "output_type": "stream",
     "text": [
      "(3, 3)\n",
      "(3, 4)\n",
      "(3,)\n",
      "(4,)\n",
      "32 (3,)\n",
      "33 (3,)\n",
      "[1 4 5 6] (3,)\n",
      "[ 2.  8. 10. 12.]\n"
     ]
    }
   ],
   "source": [
    "# Testing the loss derivative function\n",
    "\n",
    "xx = np.array([[1,2,3],[4,5,6],[7,8,9]])\n",
    "xt = np.array([[1,1,2,3],[1,4,5,6],[1,7,8,9]])\n",
    "print(xx.shape)\n",
    "print(xt.shape)\n",
    "ww = np.array([1,2,3])\n",
    "b = 1\n",
    "yy_actual = np.array([14,32,50])\n",
    "wt = np.array([1,1,2,3])\n",
    "print(ww.shape)\n",
    "print(wt.shape)\n",
    "\n",
    "yy_pred = predict_y(xt,wt)\n",
    "\n",
    "print(yy_actual[1],yy_actual.shape)\n",
    "print(yy_pred[1],yy_pred.shape)\n",
    "print(xt[1,:],yy_pred.shape)\n",
    "\n",
    "print(loss_fn_derivative(yy_pred[1],yy_actual[1],xt[1,:]))\n",
    "#print(loss_fn_derivative(yy_pred,yy_actual,xt))"
   ]
  },
  {
   "cell_type": "markdown",
   "id": "ee68c7e8",
   "metadata": {
    "papermill": {
     "duration": 0.00833,
     "end_time": "2024-06-21T19:02:24.096968",
     "exception": false,
     "start_time": "2024-06-21T19:02:24.088638",
     "status": "completed"
    },
    "tags": []
   },
   "source": [
    "#### Gradient descent to update w\n",
    "\n",
    "$w_{twiddle} = w_{twiddle} - \\alpha * \\frac{df}{dw} L(w)$  \n",
    "$\\alpha : Step Rate$"
   ]
  },
  {
   "cell_type": "code",
   "execution_count": 14,
   "id": "50c04f91",
   "metadata": {
    "execution": {
     "iopub.execute_input": "2024-06-21T19:02:24.114862Z",
     "iopub.status.busy": "2024-06-21T19:02:24.114431Z",
     "iopub.status.idle": "2024-06-21T19:02:24.120693Z",
     "shell.execute_reply": "2024-06-21T19:02:24.119692Z"
    },
    "papermill": {
     "duration": 0.018083,
     "end_time": "2024-06-21T19:02:24.123065",
     "exception": false,
     "start_time": "2024-06-21T19:02:24.104982",
     "status": "completed"
    },
    "tags": []
   },
   "outputs": [],
   "source": [
    "def gradient_descent(alpha,y_actual,y_pred,x_twid,w_twid):\n",
    "    derivative = loss_fn_derivative(y_pred,y_actual,x_twid)\n",
    "    w_twid = w_twid - (alpha * derivative)\n",
    "    return w_twid"
   ]
  },
  {
   "cell_type": "code",
   "execution_count": 15,
   "id": "c7cb44ba",
   "metadata": {
    "execution": {
     "iopub.execute_input": "2024-06-21T19:02:24.141029Z",
     "iopub.status.busy": "2024-06-21T19:02:24.140641Z",
     "iopub.status.idle": "2024-06-21T19:02:24.147117Z",
     "shell.execute_reply": "2024-06-21T19:02:24.145776Z"
    },
    "papermill": {
     "duration": 0.017962,
     "end_time": "2024-06-21T19:02:24.149247",
     "exception": false,
     "start_time": "2024-06-21T19:02:24.131285",
     "status": "completed"
    },
    "tags": []
   },
   "outputs": [],
   "source": [
    "def get_training_data(x,y,n):\n",
    "    perm = np.random.permutation(len(x))\n",
    "    train_idx = perm[0:n]\n",
    "    test_idx = perm[n:]\n",
    "    train_x = x[train_idx,:]\n",
    "    train_y = y[train_idx]\n",
    "    test_x = x[test_idx,:]\n",
    "    test_y = y[test_idx]\n",
    "    return train_x, train_y, test_x, test_y"
   ]
  },
  {
   "cell_type": "code",
   "execution_count": 16,
   "id": "3b43e190",
   "metadata": {
    "execution": {
     "iopub.execute_input": "2024-06-21T19:02:24.167174Z",
     "iopub.status.busy": "2024-06-21T19:02:24.166799Z",
     "iopub.status.idle": "2024-06-21T19:02:24.173512Z",
     "shell.execute_reply": "2024-06-21T19:02:24.172438Z"
    },
    "papermill": {
     "duration": 0.018383,
     "end_time": "2024-06-21T19:02:24.175779",
     "exception": false,
     "start_time": "2024-06-21T19:02:24.157396",
     "status": "completed"
    },
    "tags": []
   },
   "outputs": [],
   "source": [
    "train_x,train_y,test_x,test_y = get_training_data(x,y,9000)\n"
   ]
  },
  {
   "cell_type": "code",
   "execution_count": 17,
   "id": "fa6973f8",
   "metadata": {
    "execution": {
     "iopub.execute_input": "2024-06-21T19:02:24.194088Z",
     "iopub.status.busy": "2024-06-21T19:02:24.193077Z",
     "iopub.status.idle": "2024-06-21T19:02:24.200796Z",
     "shell.execute_reply": "2024-06-21T19:02:24.199714Z"
    },
    "papermill": {
     "duration": 0.019211,
     "end_time": "2024-06-21T19:02:24.202955",
     "exception": false,
     "start_time": "2024-06-21T19:02:24.183744",
     "status": "completed"
    },
    "tags": []
   },
   "outputs": [],
   "source": [
    "# Algorithm for linear egression using gradient research\n",
    "\n",
    "# x - input data\n",
    "# y - output data\n",
    "\n",
    "def linear_reg_GD(train_x,train_y,n_iters=10):\n",
    "    \n",
    "    r,d = train_x.shape\n",
    "    ones = np.ones((len(train_x),1))\n",
    "    # Appending 1 in front of each row in X\n",
    "    x_twiddle = np.append(ones,train_x,axis=1) #X twiddle shape: (9000 , 6)\n",
    "    w = np.ones((d,))\n",
    "    b = np.zeros((1,)) \n",
    "    # Appending b to W array\n",
    "    w_twiddle = np.append(b,w,axis=0) #W twiddle shape: (6,)    \n",
    "    y_pred = predict_y(x_twiddle,w_twiddle)\n",
    "    \n",
    "    alpha = 0.0001\n",
    "    \n",
    "    for i in range(n_iters):\n",
    "        w_twiddle = gradient_descent(alpha,train_y,y_pred,x_twiddle,w_twiddle)\n",
    "        y_pred = predict_y(x_twiddle,w_twiddle)\n",
    "    \n",
    "    mse = mean_squared_error(train_y,y_pred)\n",
    "    print(\"Mse\", mse)\n",
    "       \n",
    "    return w_twiddle,y_pred"
   ]
  },
  {
   "cell_type": "code",
   "execution_count": 18,
   "id": "2d195def",
   "metadata": {
    "execution": {
     "iopub.execute_input": "2024-06-21T19:02:24.221586Z",
     "iopub.status.busy": "2024-06-21T19:02:24.220340Z",
     "iopub.status.idle": "2024-06-21T19:02:24.230535Z",
     "shell.execute_reply": "2024-06-21T19:02:24.229375Z"
    },
    "papermill": {
     "duration": 0.021626,
     "end_time": "2024-06-21T19:02:24.232636",
     "exception": false,
     "start_time": "2024-06-21T19:02:24.211010",
     "status": "completed"
    },
    "tags": []
   },
   "outputs": [],
   "source": [
    "# Algorithm for linear egression using stochastic gradient research\n",
    "\n",
    "# x - input data\n",
    "# y - output data\n",
    "\n",
    "def linear_reg_stochasticGD(train_x,train_y,n_iters):\n",
    "    \n",
    "    r,d = train_x.shape\n",
    "    ones = np.ones((len(train_x),1))\n",
    "    # Appending 1 in front of each row in X\n",
    "    x_twiddle = np.append(ones,train_x,axis=1) #X twiddle shape: (9000 , 6)\n",
    "    w = np.ones((d,))\n",
    "    b = np.zeros((1,)) \n",
    "    # Appending b to W array\n",
    "    w_twiddle = np.append(b,w,axis=0) #W twiddle shape: (6,)    \n",
    "    y_pred = predict_y(x_twiddle,w_twiddle)\n",
    "    \n",
    "    loss_previous = 100000\n",
    "    alpha = 0.0001\n",
    "    \n",
    "    for i in range(n_iters):\n",
    "        loss_all_run = []\n",
    "        for i in range(len(train_y)):\n",
    "            w_twiddle = gradient_descent(alpha,train_y[i],y_pred[i],x_twiddle[i,:],w_twiddle)\n",
    "            y_pred[i] = predict_y(x_twiddle[i,:],w_twiddle)\n",
    "            loss = np.mean((y_pred[i]-train_y[i])**2)\n",
    "            loss_all_run.append(loss)\n",
    "            \n",
    "        loss_all_run = np.mean(loss_all_run)\n",
    "        if np.abs(loss_all_run - loss_previous) < 0.01:\n",
    "            print('Converged at run')\n",
    "            break\n",
    "        loss_previous = loss_all_run\n",
    "        \n",
    "    mse = mean_squared_error(train_y,y_pred)\n",
    "    print(\"Mse\", mse)\n",
    "       \n",
    "    return w_twiddle,y_pred"
   ]
  },
  {
   "cell_type": "code",
   "execution_count": 19,
   "id": "8b5f241d",
   "metadata": {
    "execution": {
     "iopub.execute_input": "2024-06-21T19:02:24.250636Z",
     "iopub.status.busy": "2024-06-21T19:02:24.250217Z",
     "iopub.status.idle": "2024-06-21T19:02:37.415132Z",
     "shell.execute_reply": "2024-06-21T19:02:37.414010Z"
    },
    "papermill": {
     "duration": 13.177638,
     "end_time": "2024-06-21T19:02:37.418467",
     "exception": false,
     "start_time": "2024-06-21T19:02:24.240829",
     "status": "completed"
    },
    "tags": []
   },
   "outputs": [
    {
     "name": "stdout",
     "output_type": "stream",
     "text": [
      "Mse 28.479844750681373\n"
     ]
    }
   ],
   "source": [
    "t_bfre = time.time()\n",
    "w_twid, y_pred = linear_reg_GD(train_x,train_y,20000)\n",
    "t_aftr = time.time()"
   ]
  },
  {
   "cell_type": "code",
   "execution_count": 20,
   "id": "e56d575a",
   "metadata": {
    "execution": {
     "iopub.execute_input": "2024-06-21T19:02:37.448077Z",
     "iopub.status.busy": "2024-06-21T19:02:37.447525Z",
     "iopub.status.idle": "2024-06-21T19:02:37.458528Z",
     "shell.execute_reply": "2024-06-21T19:02:37.457192Z"
    },
    "papermill": {
     "duration": 0.029807,
     "end_time": "2024-06-21T19:02:37.462184",
     "exception": false,
     "start_time": "2024-06-21T19:02:37.432377",
     "status": "completed"
    },
    "tags": []
   },
   "outputs": [
    {
     "name": "stdout",
     "output_type": "stream",
     "text": [
      "13.159863710403442\n"
     ]
    }
   ],
   "source": [
    "print(t_aftr - t_bfre)"
   ]
  },
  {
   "cell_type": "code",
   "execution_count": 21,
   "id": "dbf77c6e",
   "metadata": {
    "execution": {
     "iopub.execute_input": "2024-06-21T19:02:37.491845Z",
     "iopub.status.busy": "2024-06-21T19:02:37.491295Z",
     "iopub.status.idle": "2024-06-21T19:02:37.499336Z",
     "shell.execute_reply": "2024-06-21T19:02:37.498122Z"
    },
    "papermill": {
     "duration": 0.031233,
     "end_time": "2024-06-21T19:02:37.506957",
     "exception": false,
     "start_time": "2024-06-21T19:02:37.475724",
     "status": "completed"
    },
    "tags": []
   },
   "outputs": [
    {
     "name": "stdout",
     "output_type": "stream",
     "text": [
      "[-3.53181997  2.26177026  0.83731645 -0.32872856 -1.32842547 -0.23001254]\n",
      "\n",
      " y_pred = [ 2.26177026  0.83731645 -0.32872856 -1.32842547 -0.23001254].x + -3.531819967992465\n"
     ]
    }
   ],
   "source": [
    "# Getting w and b from w twiddle\n",
    "print(w_twid)\n",
    "w = w_twid[1:]\n",
    "b = w_twid[0]\n",
    "print(f\"\\n y_pred = {w}.x + {b}\")"
   ]
  },
  {
   "cell_type": "markdown",
   "id": "d4ef3e9d",
   "metadata": {
    "papermill": {
     "duration": 0.012507,
     "end_time": "2024-06-21T19:02:37.533749",
     "exception": false,
     "start_time": "2024-06-21T19:02:37.521242",
     "status": "completed"
    },
    "tags": []
   },
   "source": [
    "Optimal solution: \n",
    "\n",
    "$w=(X^TX)^{−1} X^TY$"
   ]
  },
  {
   "cell_type": "code",
   "execution_count": 22,
   "id": "b5541082",
   "metadata": {
    "execution": {
     "iopub.execute_input": "2024-06-21T19:02:37.552075Z",
     "iopub.status.busy": "2024-06-21T19:02:37.551678Z",
     "iopub.status.idle": "2024-06-21T19:02:37.557892Z",
     "shell.execute_reply": "2024-06-21T19:02:37.556717Z"
    },
    "papermill": {
     "duration": 0.01797,
     "end_time": "2024-06-21T19:02:37.560100",
     "exception": false,
     "start_time": "2024-06-21T19:02:37.542130",
     "status": "completed"
    },
    "tags": []
   },
   "outputs": [],
   "source": [
    "def test_optimal_solution(x,y,w):\n",
    "    x_T = np.transpose(x)\n",
    "    a = np.matmul(x_T,x)\n",
    "    b = np.matmul(x_T,y)\n",
    "    w_optimal = np.linalg.inv(x.T@x)@x.T@y\n",
    "    print(\"W optimal\",w_optimal)\n",
    "    print(\"W from GD\",w)\n",
    "    return w_optimal"
   ]
  },
  {
   "cell_type": "code",
   "execution_count": 23,
   "id": "73dce7ff",
   "metadata": {
    "execution": {
     "iopub.execute_input": "2024-06-21T19:02:37.578983Z",
     "iopub.status.busy": "2024-06-21T19:02:37.577883Z",
     "iopub.status.idle": "2024-06-21T19:02:37.589692Z",
     "shell.execute_reply": "2024-06-21T19:02:37.588468Z"
    },
    "papermill": {
     "duration": 0.025756,
     "end_time": "2024-06-21T19:02:37.594092",
     "exception": false,
     "start_time": "2024-06-21T19:02:37.568336",
     "status": "completed"
    },
    "tags": []
   },
   "outputs": [
    {
     "name": "stdout",
     "output_type": "stream",
     "text": [
      "W optimal [-34.15143032   2.85640569   1.01942837   0.60545135   0.47935437\n",
      "   0.19456434]\n",
      "W from GD [-3.53181997  2.26177026  0.83731645 -0.32872856 -1.32842547 -0.23001254]\n"
     ]
    }
   ],
   "source": [
    "ones = np.ones((len(train_x),1))\n",
    "x_twid = np.append(ones,train_x,axis=1) #X twiddle shape: (9000 , 6)\n",
    "\n",
    "w_optimal = test_optimal_solution(x_twid,train_y,w_twid)"
   ]
  },
  {
   "cell_type": "markdown",
   "id": "fd28318a",
   "metadata": {
    "papermill": {
     "duration": 0.013471,
     "end_time": "2024-06-21T19:02:37.621227",
     "exception": false,
     "start_time": "2024-06-21T19:02:37.607756",
     "status": "completed"
    },
    "tags": []
   },
   "source": [
    "w =  [2.85178776 1.01803091 0.62725788 0.4816724  0.19402352]   \n",
    "b =  -34.05322184418339"
   ]
  },
  {
   "cell_type": "code",
   "execution_count": 24,
   "id": "749619af",
   "metadata": {
    "execution": {
     "iopub.execute_input": "2024-06-21T19:02:37.651309Z",
     "iopub.status.busy": "2024-06-21T19:02:37.650709Z",
     "iopub.status.idle": "2024-06-21T19:02:37.660108Z",
     "shell.execute_reply": "2024-06-21T19:02:37.658841Z"
    },
    "papermill": {
     "duration": 0.028037,
     "end_time": "2024-06-21T19:02:37.663289",
     "exception": false,
     "start_time": "2024-06-21T19:02:37.635252",
     "status": "completed"
    },
    "tags": []
   },
   "outputs": [],
   "source": [
    "y_optimal = predict_y(x_twid,w_optimal)"
   ]
  },
  {
   "cell_type": "code",
   "execution_count": 25,
   "id": "e6939b40",
   "metadata": {
    "execution": {
     "iopub.execute_input": "2024-06-21T19:02:37.694573Z",
     "iopub.status.busy": "2024-06-21T19:02:37.694011Z",
     "iopub.status.idle": "2024-06-21T19:02:37.702417Z",
     "shell.execute_reply": "2024-06-21T19:02:37.701176Z"
    },
    "papermill": {
     "duration": 0.029319,
     "end_time": "2024-06-21T19:02:37.707151",
     "exception": false,
     "start_time": "2024-06-21T19:02:37.677832",
     "status": "completed"
    },
    "tags": []
   },
   "outputs": [
    {
     "name": "stdout",
     "output_type": "stream",
     "text": [
      "[79.7812098  68.09564535 63.06406774 38.5200631  48.08166112 58.63556738\n",
      " 47.40061421 31.35948761 46.34902243 86.70344071]\n",
      "[79. 70. 65. 37. 47. 61. 46. 30. 46. 86.]\n",
      "[69.45475796 63.13215995 57.53037306 43.27916319 49.62308604 61.89879328\n",
      " 51.78059827 41.5288073  48.83702009 85.23190378]\n"
     ]
    }
   ],
   "source": [
    "print(y_optimal[0:10])\n",
    "print(train_y[0:10])\n",
    "print(y_pred[0:10])"
   ]
  }
 ],
 "metadata": {
  "kaggle": {
   "accelerator": "none",
   "dataSources": [
    {
     "datasetId": 3462333,
     "sourceId": 6051848,
     "sourceType": "datasetVersion"
    }
   ],
   "dockerImageVersionId": 30732,
   "isGpuEnabled": false,
   "isInternetEnabled": true,
   "language": "python",
   "sourceType": "notebook"
  },
  "kernelspec": {
   "display_name": "Python 3",
   "language": "python",
   "name": "python3"
  },
  "language_info": {
   "codemirror_mode": {
    "name": "ipython",
    "version": 3
   },
   "file_extension": ".py",
   "mimetype": "text/x-python",
   "name": "python",
   "nbconvert_exporter": "python",
   "pygments_lexer": "ipython3",
   "version": "3.10.13"
  },
  "papermill": {
   "default_parameters": {},
   "duration": 19.911861,
   "end_time": "2024-06-21T19:02:38.344059",
   "environment_variables": {},
   "exception": null,
   "input_path": "__notebook__.ipynb",
   "output_path": "__notebook__.ipynb",
   "parameters": {},
   "start_time": "2024-06-21T19:02:18.432198",
   "version": "2.5.0"
  }
 },
 "nbformat": 4,
 "nbformat_minor": 5
}
